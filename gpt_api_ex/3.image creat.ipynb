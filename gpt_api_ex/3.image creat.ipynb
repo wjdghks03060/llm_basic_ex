{
 "cells": [
  {
   "cell_type": "code",
   "execution_count": null,
   "id": "3036e09a",
   "metadata": {},
   "outputs": [],
   "source": [
    "## API key 로딩\n",
    "import os\n",
    "from dotenv import load_dotenv\n",
    "from openai import OpenAI\n",
    "\n",
    "# .env 파일 로드\n",
    "load_dotenv()\n",
    "\n",
    "# 환경 변수에서 API 키 가져오기\n",
    "OPENAI_API_KEY = os.getenv(\"OPENAI_API_KEY\")  # 여기서는 변수명 OPENAI_API_KEY로 저장했고\n",
    "\n",
    "# OpenAI 클라이언트 초기화 (여기서도 같은 변수명 사용)\n",
    "client = OpenAI(api_key=OPENAI_API_KEY)  # 같은 변수명 OPENAI_API_KEY 사용\n",
    "\n",
    "\n",
    "\n",
    "## 라이브러리 로딩 및 객체 생성\n",
    "# Initialize the OpenAI client with the API key(api 인증 및 객체생성)\n",
    "client = OpenAI(api_key=OPENAI_API_KEY)"
   ]
  },
  {
   "cell_type": "code",
   "execution_count": null,
   "id": "8727259a",
   "metadata": {},
   "outputs": [],
   "source": [
    "response = client.images.generate(\n",
    "    model=\"dall-e-3\",\n",
    "    prompt=\"열심히 공부하는 학생의 모습\",\n",
    "    size = \"1024x1024\",\n",
    "    quality=\"standard\",\n",
    "    n=1,\n",
    ")\n",
    "image_url=response.data[0].url\n",
    "print(image_url)"
   ]
  },
  {
   "cell_type": "code",
   "execution_count": null,
   "id": "de0bfa68",
   "metadata": {},
   "outputs": [],
   "source": []
  }
 ],
 "metadata": {
  "kernelspec": {
   "display_name": "llm_env",
   "language": "python",
   "name": "python3"
  },
  "language_info": {
   "codemirror_mode": {
    "name": "ipython",
    "version": 3
   },
   "file_extension": ".py",
   "mimetype": "text/x-python",
   "name": "python",
   "nbconvert_exporter": "python",
   "pygments_lexer": "ipython3",
   "version": "3.10.19"
  }
 },
 "nbformat": 4,
 "nbformat_minor": 5
}
