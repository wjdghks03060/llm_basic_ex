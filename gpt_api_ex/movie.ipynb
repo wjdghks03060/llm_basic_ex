{
 "cells": [
  {
   "cell_type": "markdown",
   "id": "644fda7f",
   "metadata": {},
   "source": [
    "# 영화 추천 챗봇  \n",
    "-OpenAI GPT-Model API를 이용하여 대화식 모드로 구현하기 위한 요소  \n",
    "OpenAI의 GPT Model API 접근 권한  \n",
    "-OpenAI의 API를 사용하기 위해 OpenAI의 GPT API에 액세스할 수 있는 권한이 필요  \n",
    "프로그래밍 언어 및 환경  \n",
    "채팅 인터페이스를 구현하기 위해 사용할 프로그래밍 언어와 해당 환경을 준비해야 함  \n",
    "-API 요청 및 응답 처리  \n",
    "GPT Model API를 호출하여 사용자의 입력을 전달하고, API의 응답을 받아 처리하는 로직을 구현  \n",
    "-사용자 인터페이스(UI)  \n",
    "채팅 인터페이스를 사용자에게 보여주기 위한 UI를 구현해야 함  \n",
    "-대화 관리  \n",
    "대화를 연속적으로 유지하기 위해 사용자의 이전 입력과 모델의 이전 응답을 추적하고 관리해야 함  "
   ]
  },
  {
   "cell_type": "markdown",
   "id": "af33e805",
   "metadata": {},
   "source": [
    "# 환경설정, OpenAI 객체 생성"
   ]
  },
  {
   "cell_type": "code",
   "execution_count": 1,
   "id": "6054136b",
   "metadata": {},
   "outputs": [],
   "source": [
    "import os\n",
    "from dotenv import load_dotenv\n",
    "from openai import OpenAI\n",
    "\n",
    "# .env 파일 로드\n",
    "load_dotenv()\n",
    "\n",
    "# 환경 변수에서 API 키 가져오기\n",
    "OPENAI_API_KEY = os.getenv(\"OPENAI_API_KEY\")  # 여기서는 변수명 OPENAI_API_KEY로 저장했고\n",
    "\n",
    "# OpenAI 클라이언트 초기화 (여기서도 같은 변수명 사용)\n",
    "client = OpenAI(api_key=OPENAI_API_KEY)  # 같은 변수명 OPENAI_API_KEY 사용\n",
    "\n",
    "from openai import OpenAI\n",
    "# Initialize the OpenAI client with the API key(api 인증 및 객체생성)\n",
    "client = OpenAI(api_key=OPENAI_API_KEY)"
   ]
  },
  {
   "cell_type": "markdown",
   "id": "bd8a759e",
   "metadata": {},
   "source": [
    "# 챗봇 기본"
   ]
  },
  {
   "cell_type": "code",
   "execution_count": 6,
   "id": "c33da720",
   "metadata": {},
   "outputs": [
    {
     "name": "stdout",
     "output_type": "stream",
     "text": [
      "ChatGPT : Sure, here are a few movies across different genres that you might enjoy watching with your girlfriend, depending on your mood:\n",
      "\n",
      "1. **Romantic Comedy**: \"Crazy Rich Asians\" (2018) - This movie is a fun and lavish romantic comedy that explores cultural nuances in a richly entertaining narrative, ideal for a light and enjoyable evening.\n",
      "\n",
      "2. **Romantic Drama**: \"The Notebook\" (2004) - Based on Nicholas Sparks' novel, this film is a classic romantic drama that tells an epic love story. It's a great choice if you're in the mood for a more emotional experience.\n",
      "\n",
      "3. **Adventure/Fantasy**: \"Stardust\" (2007) - If you enjoy a blend of adventure, fantasy, and romance, \"Stardust\" is a charming film that offers a magical escape with plenty of heartfelt moments.\n",
      "\n",
      "4. **Musical**: \"La La Land\" (2016) - A modern musical that captures the joy and pain of pursuing your dreams and love. It's visually stunning and has a fantastic soundtrack.\n",
      "\n",
      "5. **Comedy**: \"10 Things I Hate About You\" (1999) - This fun and smart teen comedy is inspired by Shakespeare's \"The Taming of the Shrew\" and offers both wit and depth, appealing to a broad audience.\n",
      "\n",
      "6. **Action/Romance**: \"Mr. & Mrs. Smith\" (2005) - If you're in the mood for something with a bit more action, this film combines spectacular action sequences with a storyline about a stagnating marriage reinvigorated in unusual ways.\n",
      "\n",
      "7. **Classic**: \"Casablanca\" (1942) - For a touch of nostalgia and classic Hollywood romance, \"Casablanca\" remains an unbeatable choice with its iconic characters and memorable lines, set against the backdrop of World War II.\n",
      "\n",
      "Choose any of these based on the vibe you’re going for, and have a great movie night!\n",
      "messages: [{'role': 'user', 'content': 'recommend me a movie to watch with my gf'}, {'role': 'assistant', 'content': 'Sure, here are a few movies across different genres that you might enjoy watching with your girlfriend, depending on your mood:\\n\\n1. **Romantic Comedy**: \"Crazy Rich Asians\" (2018) - This movie is a fun and lavish romantic comedy that explores cultural nuances in a richly entertaining narrative, ideal for a light and enjoyable evening.\\n\\n2. **Romantic Drama**: \"The Notebook\" (2004) - Based on Nicholas Sparks\\' novel, this film is a classic romantic drama that tells an epic love story. It\\'s a great choice if you\\'re in the mood for a more emotional experience.\\n\\n3. **Adventure/Fantasy**: \"Stardust\" (2007) - If you enjoy a blend of adventure, fantasy, and romance, \"Stardust\" is a charming film that offers a magical escape with plenty of heartfelt moments.\\n\\n4. **Musical**: \"La La Land\" (2016) - A modern musical that captures the joy and pain of pursuing your dreams and love. It\\'s visually stunning and has a fantastic soundtrack.\\n\\n5. **Comedy**: \"10 Things I Hate About You\" (1999) - This fun and smart teen comedy is inspired by Shakespeare\\'s \"The Taming of the Shrew\" and offers both wit and depth, appealing to a broad audience.\\n\\n6. **Action/Romance**: \"Mr. & Mrs. Smith\" (2005) - If you\\'re in the mood for something with a bit more action, this film combines spectacular action sequences with a storyline about a stagnating marriage reinvigorated in unusual ways.\\n\\n7. **Classic**: \"Casablanca\" (1942) - For a touch of nostalgia and classic Hollywood romance, \"Casablanca\" remains an unbeatable choice with its iconic characters and memorable lines, set against the backdrop of World War II.\\n\\nChoose any of these based on the vibe you’re going for, and have a great movie night!'}]\n",
      "ChatGPT : Great! If your girlfriend enjoys sci-fi and fantasy films, here are some excellent picks that you both might really enjoy:\n",
      "\n",
      "1. **Inception** (2010) - Directed by Christopher Nolan, this sci-fi thriller delves into the complexities of dreams and subconscious manipulation. It’s a mind-bending adventure with stunning visuals and a compelling plot.\n",
      "\n",
      "2. **The Fifth Element** (1997) - A vibrant and quirky sci-fi adventure directed by Luc Besson. It combines elements of action, romance, and comedy in a futuristic setting.\n",
      "\n",
      "3. **Blade Runner 2049** (2017) - The sequel to the classic \"Blade Runner,\" this film offers a visually arresting experience with deep philosophical questions about human nature and artificial intelligence.\n",
      "\n",
      "4. **Arrival** (2016) - A more introspective sci-fi film, \"Arrival\" explores themes of communication and time when a linguist is recruited to interpret the language of apparent alien visitors.\n",
      "\n",
      "5. **The Shape of Water** (2017) - Directed by Guillermo del Toro, this romantic fantasy film tells the unconventional love story between a mute cleaner and a mysterious sea creature. Beautifully crafted, it’s both a visual feast and a poignant narrative.\n",
      "\n",
      "6. **Pan's Labyrinth** (2006) - Another masterpiece from Guillermo del Toro, this film blends real-world historical settings with eerie and captivating fantasy elements, creating a dark fairy tale for adults.\n",
      "\n",
      "7. **Star Wars: Episode V - The Empire Strikes Back** (1980) - A classic in the sci-fi genre, this film explores themes of heroism, conflict, and romance on a cosmic scale. It's also widely regarded as one of the best films in the \"Star Wars\" saga.\n",
      "   \n",
      "8. **Guardians of the Galaxy** (2014) - This action-packed Marvel movie seamlessly blends humor, sci-fi, and adventure, ideal for a fun movie night.\n",
      "\n",
      "Each of these films offers a unique take on the science fiction or fantasy genre, ensuring an engaging movie experience. Enjoy your movie night!\n",
      "messages: [{'role': 'user', 'content': 'recommend me a movie to watch with my gf'}, {'role': 'assistant', 'content': 'Sure, here are a few movies across different genres that you might enjoy watching with your girlfriend, depending on your mood:\\n\\n1. **Romantic Comedy**: \"Crazy Rich Asians\" (2018) - This movie is a fun and lavish romantic comedy that explores cultural nuances in a richly entertaining narrative, ideal for a light and enjoyable evening.\\n\\n2. **Romantic Drama**: \"The Notebook\" (2004) - Based on Nicholas Sparks\\' novel, this film is a classic romantic drama that tells an epic love story. It\\'s a great choice if you\\'re in the mood for a more emotional experience.\\n\\n3. **Adventure/Fantasy**: \"Stardust\" (2007) - If you enjoy a blend of adventure, fantasy, and romance, \"Stardust\" is a charming film that offers a magical escape with plenty of heartfelt moments.\\n\\n4. **Musical**: \"La La Land\" (2016) - A modern musical that captures the joy and pain of pursuing your dreams and love. It\\'s visually stunning and has a fantastic soundtrack.\\n\\n5. **Comedy**: \"10 Things I Hate About You\" (1999) - This fun and smart teen comedy is inspired by Shakespeare\\'s \"The Taming of the Shrew\" and offers both wit and depth, appealing to a broad audience.\\n\\n6. **Action/Romance**: \"Mr. & Mrs. Smith\" (2005) - If you\\'re in the mood for something with a bit more action, this film combines spectacular action sequences with a storyline about a stagnating marriage reinvigorated in unusual ways.\\n\\n7. **Classic**: \"Casablanca\" (1942) - For a touch of nostalgia and classic Hollywood romance, \"Casablanca\" remains an unbeatable choice with its iconic characters and memorable lines, set against the backdrop of World War II.\\n\\nChoose any of these based on the vibe you’re going for, and have a great movie night!'}, {'role': 'user', 'content': 'my gf likes scifi or fantasy movie'}, {'role': 'assistant', 'content': 'Great! If your girlfriend enjoys sci-fi and fantasy films, here are some excellent picks that you both might really enjoy:\\n\\n1. **Inception** (2010) - Directed by Christopher Nolan, this sci-fi thriller delves into the complexities of dreams and subconscious manipulation. It’s a mind-bending adventure with stunning visuals and a compelling plot.\\n\\n2. **The Fifth Element** (1997) - A vibrant and quirky sci-fi adventure directed by Luc Besson. It combines elements of action, romance, and comedy in a futuristic setting.\\n\\n3. **Blade Runner 2049** (2017) - The sequel to the classic \"Blade Runner,\" this film offers a visually arresting experience with deep philosophical questions about human nature and artificial intelligence.\\n\\n4. **Arrival** (2016) - A more introspective sci-fi film, \"Arrival\" explores themes of communication and time when a linguist is recruited to interpret the language of apparent alien visitors.\\n\\n5. **The Shape of Water** (2017) - Directed by Guillermo del Toro, this romantic fantasy film tells the unconventional love story between a mute cleaner and a mysterious sea creature. Beautifully crafted, it’s both a visual feast and a poignant narrative.\\n\\n6. **Pan\\'s Labyrinth** (2006) - Another masterpiece from Guillermo del Toro, this film blends real-world historical settings with eerie and captivating fantasy elements, creating a dark fairy tale for adults.\\n\\n7. **Star Wars: Episode V - The Empire Strikes Back** (1980) - A classic in the sci-fi genre, this film explores themes of heroism, conflict, and romance on a cosmic scale. It\\'s also widely regarded as one of the best films in the \"Star Wars\" saga.\\n   \\n8. **Guardians of the Galaxy** (2014) - This action-packed Marvel movie seamlessly blends humor, sci-fi, and adventure, ideal for a fun movie night.\\n\\nEach of these films offers a unique take on the science fiction or fantasy genre, ensuring an engaging movie experience. Enjoy your movie night!'}]\n"
     ]
    }
   ],
   "source": [
    "messages = []\n",
    "while True:\n",
    "    \n",
    "    text = input(\"사용자(종료는 `q` 입력) >> \")\n",
    "# 종료 조건\n",
    "    if text.lower() in ['q', 'ㅂ']:\n",
    "        break\n",
    "    messages.append({\"role\": \"user\", \"content\": text})\n",
    "# gpt 모델 챗 요청 -> 응답 받기\n",
    "    completion = client.chat.completions.create(\n",
    "        # model = \"gpt-3.5-turbo\",\n",
    "        model = \"gpt-4-turbo\",\n",
    "        messages = messages\n",
    "    )\n",
    "#응답 출력\n",
    "#print(completion.choices[0].message.content)\n",
    "    chat_response = completion.choices[0].message.content\n",
    "    print(f\"ChatGPT : {chat_response}\")\n",
    "    messages.append({\"role\": \"assistant\", \"content\": chat_response})\n",
    "    print(\"messages:\", messages)"
   ]
  },
  {
   "cell_type": "markdown",
   "id": "3249ab9c",
   "metadata": {},
   "source": [
    "# AI GPT 모델화 대화 실행 테스트"
   ]
  },
  {
   "cell_type": "code",
   "execution_count": null,
   "id": "5011e5b4",
   "metadata": {},
   "outputs": [],
   "source": [
    "# 영화 추천을 위한 프롬프트 엔지니어링\n",
    "movie_prompt = \"\"\"당신은 영화 추천을 위해 훈련된 고도로 숙련된 AI입니다.\n",
    "내가 입력한 단어 또는 문장을 기반으로 영화를 추천해야 합니다.\n",
    "내가 입력한 단어 또는 문장에는 나의 관심사와 성별, 연령대, 지역 등의 개인정보가 포함될 수 있습니다.\n",
    "내가 어떤 영화의 제목을 입력하면 유사한 장르의 영화를 추천하세요.\n",
    "감독 또는 배우의 이름을 입력하면 그 배우가 참여한 다른 영화를 추천하세요.\n",
    "개인정보를 입력하면 그 그룹에서 인기있는 영화를 추천하세요.\n",
    "영화 추천은 3편~5편을 해주고, 목록 형식으로 추천해주세요.\n",
    "항상 마지막에 `더 많은 정보를 입력하겠습니까?`을 출력해서 영화 추천을 계속 할 지 말지를 결정할 수 있도록 해야 합니다.\n",
    "\"\"\""
   ]
  },
  {
   "cell_type": "code",
   "execution_count": 8,
   "id": "8ab38253",
   "metadata": {},
   "outputs": [
    {
     "name": "stdout",
     "output_type": "stream",
     "text": [
      "ChatCompletionMessage(content='물론입니다! 어떤 영화 제목, 감독, 배우 또는 개인정보를 입력하시면 그에 맞는 영화 추천을 해드리겠습니다. \\n\\n어떤 정보를 제공하시겠어요? \\n\\n더 많은 정보를 입력하겠습니까?', refusal=None, role='assistant', annotations=[], audio=None, function_call=None, tool_calls=None)\n"
     ]
    }
   ],
   "source": [
    "completion = client.chat.completions.create(\n",
    "    model=\"gpt-4o-mini\",   # 모델 이름\n",
    "    messages=[\n",
    "        {\n",
    "            \"role\": \"system\",\n",
    "            \"content\": \"너는 영화 평론가야.\"},  # 시스템 메시지\n",
    "        {\n",
    "            \"role\": \"user\",               # 사용자 메시지\n",
    "            \"content\": movie_prompt\n",
    "        }\n",
    "    ]\n",
    ")\n",
    "\n",
    "print(completion.choices[0].message)"
   ]
  },
  {
   "cell_type": "code",
   "execution_count": null,
   "id": "7b2dcc20",
   "metadata": {},
   "outputs": [],
   "source": [
    "completion = client.chat.completions.create(\n",
    "    model=\"gpt-4o-mini\",   # 모델 이름\n",
    "    messages=[\n",
    "        {\n",
    "            \"role\": \"system\",\n",
    "            \"content\": \"너는 영화 평론가야.\"},  # 시스템 메시지\n",
    "        {\n",
    "            \"role\": \"user\",               # 사용자 메시지\n",
    "            \"content\": movie_prompt\n",
    "        }\n",
    "    ]\n",
    ")\n",
    "\n",
    "print(completion.choices[0].message)"
   ]
  },
  {
   "cell_type": "code",
   "execution_count": 9,
   "id": "f3613ae6",
   "metadata": {},
   "outputs": [
    {
     "name": "stdout",
     "output_type": "stream",
     "text": [
      "물론입니다! 어떤 영화 제목, 감독, 배우 또는 개인정보를 입력하시면 그에 맞는 영화 추천을 해드리겠습니다. \n",
      "\n",
      "어떤 정보를 제공하시겠어요? \n",
      "\n",
      "더 많은 정보를 입력하겠습니까?\n"
     ]
    }
   ],
   "source": [
    "# AI의 메시지만 추출하기\n",
    "print(completion.choices[0].message.content)"
   ]
  },
  {
   "cell_type": "markdown",
   "id": "ea812293",
   "metadata": {},
   "source": [
    "## 개인화된 영화 추천 챗봇\n",
    "-multiturn conversation with personalized movie recommendations  \n",
    "-None streaming  \n"
   ]
  },
  {
   "cell_type": "code",
   "execution_count": 10,
   "id": "3f4fe211",
   "metadata": {},
   "outputs": [],
   "source": [
    "movie_prompt = \"\"\"당신은 영화 추천을 위해 훈련된 고도로 숙련된 AI입니다.\n",
    "내가 입력한 단어 또는 문장을 기반으로 영화를 추천해야 합니다.\n",
    "내가 입력한 단어 또는 문장에는 나의 관심사와 성별, 연령대, 지역 등의 개인정보가 포함될 수 있습니다.\n",
    "내가 어떤 영화의 제목을 입력하면 유사한 장르의 영화를 추천하세요.\n",
    "감독 또는 배우의 이름을 입력하면 그 배우가 참여한 다른 영화를 추천하세요.\n",
    "개인정보를 입력하면 그 그룹에서 인기있는 영화를 추천하세요.\n",
    "영화 추천은 3편~5편을 해주고, 목록 형식으로 추천해주세요.\n",
    "항상 마지막에 `더 많은 정보를 입력하겠습니까?`을 출력해서 영화 추천을 계속 할 지 말지를 결정할 수 있도록 해야 합니다.\n",
    "\"\"\""
   ]
  },
  {
   "cell_type": "code",
   "execution_count": 11,
   "id": "2aa60cf5",
   "metadata": {},
   "outputs": [
    {
     "name": "stdout",
     "output_type": "stream",
     "text": [
      "과학 기술과 환상적인 요소가 결합된 SF 장르의 영화를 좋아하시나 보군요! 다음은 추천드릴 몇 가지 SF 영화들입니다:\n",
      "\n",
      "1. **인터스텔라 (Interstellar)** - 크리스토퍼 놀란 감독이 연출하고, 인류의 존속을 위해 다른 행성을 찾아 떠나는 우주 탐험대의 이야기를 그린 영화입니다.\n",
      "2. **블레이드 러너 2049 (Blade Runner 2049)** - 데니스 빌뇌브 감독이 연출한 이 영화는 인공지능과 인간의 경계를 탐구하면서 미래의 디스토피아를 그립니다.\n",
      "3. **그래비티 (Gravity)** - 우주에서의 사고 후 생존을 위해 발버둥치는 우주비행사들의 긴박한 상황을 생생하게 표현한 영화입니다.\n",
      "4. **엑스 마키나 (Ex Machina)** - 인공 지능을 주제로 한 심리적 스릴러로, 인간과 기계 사이의 관계를 깊이 있게 다룹니다.\n",
      "5. **매트릭스 (The Matrix)** - 가상 현실과 현실 세계 사이를 넘나드는 복잡한 이야기와 화려한 액션으로 많은 사랑을 받는 영화입니다.\n",
      "\n",
      "더 많은 정보를 입력하겠습니까?\n",
      "알겠습니다. 필요할 때 언제든지 돌아오세요. 좋은 하루 보내세요!\n"
     ]
    }
   ],
   "source": [
    "# stream=False\n",
    "messages = [{\"role\": \"system\", \"content\": movie_prompt}]\n",
    "\n",
    "while True:\n",
    "    text = input(\"관심사 또는 개인정보를 입력하세요. (종료: 'q'): \")\n",
    "    if text.lower() in ['q', 'ㅂ']:\n",
    "        break\n",
    "\n",
    "    messages.append({\"role\": \"user\", \"content\": text})\n",
    "    response = client.chat.completions.create(\n",
    "        model=\"gpt-4-turbo\",\n",
    "        messages=messages,\n",
    "        stream=False  # 스트리밍 비활성화\n",
    "    )\n",
    "\n",
    "    full_reply = response.choices[0].message.content  # 전체 응답을 한 번에 가져옴\n",
    "    print(full_reply)\n",
    "\n",
    "    messages.append({\"role\": \"assistant\", \"content\": full_reply})"
   ]
  },
  {
   "cell_type": "code",
   "execution_count": 12,
   "id": "d81fc373",
   "metadata": {},
   "outputs": [
    {
     "name": "stdout",
     "output_type": "stream",
     "text": [
      "반가워요! 판타지 장르를 선호하시는 여성분께 추천드릴 몇 가지 영화는 다음과 같습니다:\n",
      "\n",
      "1. **해리 포터 시리즈** - 마법의 세계로 빠져들 수 있는 클래식한 판타지 시리즈.\n",
      "2. **스타더스트** (2007) - 마법과 모험으로 가득 찬, 별을 찾아 떠나는 젊은 남자의 이야기.\n",
      "3. **모아나** (2016) - 강력한 여성 주인공이 자신의 운명을 찾아 나서는 디즈니 애니메이션.\n",
      "4. **앨리스 인 원더랜드** (2010) - 현실과 환상이 교차하는 기묘한 모험을 그린 팀 버튼의 작품.\n",
      "5. **엘라의 모험: 신데렐라 마법 반지를 찾아서** (2004) - 마법적이고 독특한 플롯으로 새로운 시각에서 신데렐라 이야기를 들려준 영화.\n",
      "\n",
      "더 많은 정보를 입력하겠습니까?알겠습니다! 필요하실 때 언제든지 돌아오세요. 좋은 하루 되세요!(사용자의 메시지가 없습니다. 추가 도움이 필요하시면 말씀해 주세요.)"
     ]
    }
   ],
   "source": [
    "# stream=True 인경우\n",
    "messages = [{\"role\": \"system\", \"content\": movie_prompt}] # 프롬프트 설정\n",
    "text = input(\"당신의 관심사 또는 개인정보(성별, 연령대 등)을 입력하세요.(종료는 `q` 입력): \")\n",
    "while True:\n",
    "    if text.lower() in ['q', 'ㅂ']: break # `q`, `Q`, `ㅂ`중 하나를 입력하면 종료\n",
    "    messages.append({\"role\":\"user\", \"content\":text}) # 관심정보를 메시지에 추가\n",
    "    response = client.chat.completions.create(\n",
    "        model=\"gpt-4-turbo\",\n",
    "        messages=messages,\n",
    "        stream=True # 스트리밍 응답\n",
    "    )\n",
    "    collected_messages = [] # 전체 응답을 저장할 리스트\n",
    "    for chunk in response:\n",
    "        chunk_message = chunk.choices[0].delta.content      # 청크 메시지 추출\n",
    "        collected_messages.append(chunk_message)\n",
    "        if(chunk_message==None): \n",
    "            text = input(\"추가정보 입력(종료는 `q`): \")\n",
    "        else:\n",
    "            print(f\"{chunk_message}\", end='')\n",
    "    collected_messages = [m for m in collected_messages if m is not None] # None아닌 메시지를 뽑아냄\n",
    "    full_reply_content = ''.join([m for m in collected_messages]) # 모든 청크 메시지를 연결\n",
    "\n",
    "    messages.append({\"role\":\"assistant\", \"content\": full_reply_content}) # 응답 메시지를 assistant에 저장"
   ]
  },
  {
   "cell_type": "code",
   "execution_count": null,
   "id": "b81d3b28",
   "metadata": {},
   "outputs": [],
   "source": []
  }
 ],
 "metadata": {
  "kernelspec": {
   "display_name": "llm_env",
   "language": "python",
   "name": "llm_env"
  },
  "language_info": {
   "codemirror_mode": {
    "name": "ipython",
    "version": 3
   },
   "file_extension": ".py",
   "mimetype": "text/x-python",
   "name": "python",
   "nbconvert_exporter": "python",
   "pygments_lexer": "ipython3",
   "version": "3.10.19"
  }
 },
 "nbformat": 4,
 "nbformat_minor": 5
}
