{
 "cells": [
  {
   "cell_type": "code",
   "execution_count": 2,
   "id": "ea284509",
   "metadata": {},
   "outputs": [
    {
     "name": "stdout",
     "output_type": "stream",
     "text": [
      "http://sharebook\n"
     ]
    }
   ],
   "source": [
    "url = \"http://sharebook.kr\"\n",
    "url_split = url.split('.')\n",
    "print(url_split[0])\n"
   ]
  },
  {
   "cell_type": "code",
   "execution_count": 5,
   "id": "26aca925",
   "metadata": {},
   "outputs": [
    {
     "ename": "TypeError",
     "evalue": "'str' object does not support item assignment",
     "output_type": "error",
     "traceback": [
      "\u001b[1;31m---------------------------------------------------------------------------\u001b[0m",
      "\u001b[1;31mTypeError\u001b[0m                                 Traceback (most recent call last)",
      "Cell \u001b[1;32mIn[5], line 2\u001b[0m\n\u001b[0;32m      1\u001b[0m lang \u001b[38;5;241m=\u001b[39m \u001b[38;5;124m'\u001b[39m\u001b[38;5;124mpython\u001b[39m\u001b[38;5;124m'\u001b[39m\n\u001b[1;32m----> 2\u001b[0m \u001b[43mlang\u001b[49m\u001b[43m[\u001b[49m\u001b[38;5;241;43m0\u001b[39;49m\u001b[43m]\u001b[49m \u001b[38;5;241m=\u001b[39m \u001b[38;5;124m'\u001b[39m\u001b[38;5;124mP\u001b[39m\u001b[38;5;124m'\u001b[39m\n\u001b[0;32m      3\u001b[0m \u001b[38;5;28mprint\u001b[39m(lang)\n",
      "\u001b[1;31mTypeError\u001b[0m: 'str' object does not support item assignment"
     ]
    }
   ],
   "source": [
    "lang = 'python'\n",
    "lang[0] = 'P'\n",
    "print(lang)\n"
   ]
  },
  {
   "cell_type": "code",
   "execution_count": null,
   "id": "de50d810",
   "metadata": {},
   "outputs": [],
   "source": []
  },
  {
   "cell_type": "markdown",
   "id": "db08550c",
   "metadata": {},
   "source": [
    "# openai api key test"
   ]
  },
  {
   "cell_type": "markdown",
   "id": "f5832c8f",
   "metadata": {},
   "source": [
    "## API key 로딩"
   ]
  },
  {
   "cell_type": "code",
   "execution_count": 1,
   "id": "910633b8",
   "metadata": {},
   "outputs": [],
   "source": [
    "import os\n",
    "from dotenv import load_dotenv\n",
    "from openai import OpenAI\n",
    "\n",
    "# .env 파일 로드\n",
    "load_dotenv()\n",
    "\n",
    "# 환경 변수에서 API 키 가져오기\n",
    "OPENAI_API_KEY = os.getenv(\"OPENAI_API_KEY\")  # 여기서는 변수명 OPENAI_API_KEY로 저장했고\n",
    "\n",
    "# OpenAI 클라이언트 초기화 (여기서도 같은 변수명 사용)\n",
    "client = OpenAI(api_key=OPENAI_API_KEY)  # 같은 변수명 OPENAI_API_KEY 사용"
   ]
  },
  {
   "cell_type": "markdown",
   "id": "6d016333",
   "metadata": {},
   "source": []
  },
  {
   "cell_type": "markdown",
   "id": "8b45e3f1",
   "metadata": {},
   "source": [
    "## 라이브러리 로딩 및 객체 생성"
   ]
  },
  {
   "cell_type": "code",
   "execution_count": 2,
   "id": "d9f15fd0",
   "metadata": {},
   "outputs": [],
   "source": [
    "from openai import OpenAI\n",
    "# Initialize the OpenAI client with the API key(api 인증 및 객체생성)\n",
    "client = OpenAI(api_key=OPENAI_API_KEY)"
   ]
  },
  {
   "cell_type": "markdown",
   "id": "d183c13f",
   "metadata": {},
   "source": [
    "## gpt ai 모델에 질문하기"
   ]
  },
  {
   "cell_type": "code",
   "execution_count": 3,
   "id": "d5afefc8",
   "metadata": {},
   "outputs": [],
   "source": [
    "\n",
    "\n",
    "response = client.responses.create(\n",
    "    model=\"gpt-5\",\n",
    "    input=\"Hello tell me a place to visit for romantic vacation?\"\n",
    ")\n"
   ]
  },
  {
   "cell_type": "markdown",
   "id": "d8792b88",
   "metadata": {},
   "source": [
    "### 응답결과 파싱(추출)"
   ]
  },
  {
   "cell_type": "code",
   "execution_count": 14,
   "id": "1d76a7b5",
   "metadata": {},
   "outputs": [
    {
     "name": "stdout",
     "output_type": "stream",
     "text": [
      "Response(id='resp_0f45b2c640c823800068fed483ead881939dfa3057357906b1', created_at=1761531012.0, error=None, incomplete_details=None, instructions=None, metadata={}, model='gpt-5-2025-08-07', object='response', output=[ResponseReasoningItem(id='rs_0f45b2c640c823800068fed484ddac8193a8be2a6e5b834335', summary=[], type='reasoning', content=None, encrypted_content=None, status=None), ResponseOutputMessage(id='msg_0f45b2c640c823800068fed48ceb0c8193a30fb68ad2c54602', content=[ResponseOutputText(annotations=[], text='Hi! I’m ChatGPT, your AI assistant. I can help with research, writing, coding, math, planning, brainstorming, and even analyzing images you share. What should I call you, and what are you into?', type='output_text', logprobs=[])], role='assistant', status='completed', type='message')], parallel_tool_calls=True, temperature=1.0, tool_choice='auto', tools=[], top_p=1.0, background=False, conversation=None, max_output_tokens=None, max_tool_calls=None, previous_response_id=None, prompt=None, prompt_cache_key=None, reasoning=Reasoning(effort='medium', generate_summary=None, summary=None), safety_identifier=None, service_tier='default', status='completed', text=ResponseTextConfig(format=ResponseFormatText(type='text'), verbosity='medium'), top_logprobs=0, truncation='disabled', usage=ResponseUsage(input_tokens=12, input_tokens_details=InputTokensDetails(cached_tokens=0), output_tokens=244, output_tokens_details=OutputTokensDetails(reasoning_tokens=192), total_tokens=256), user=None, billing={'payer': 'developer'}, store=True)\n"
     ]
    }
   ],
   "source": [
    "print(response)"
   ]
  },
  {
   "cell_type": "markdown",
   "id": "841ae406",
   "metadata": {},
   "source": [
    "--응답결과\n",
    "Response(id='resp_0a33be412e4481a60068fecc7e85688197a04a1ee493ecf24c', created_at=1761528958.0, error=None, incomplete_details=None, instructions=None, metadata={}, model='gpt-5-2025-08-07', object='response', output=[ResponseReasoningItem(id='rs_0a33be412e4481a60068fecc7f76008197bc8c22225fc06291', summary=[], type='reasoning', content=None, encrypted_content=None, status=None), ResponseOutputMessage(id='msg_0a33be412e4481a60068fecc8471488197b31c537ae03d138a', content=[ResponseOutputText(annotations=[], text='Hi! I’m ChatGPT, your AI assistant. I can help with writing, brainstorming, planning, math, coding, research, and casual chat—and I can also look at images if you upload them. I don’t remember details between chats unless you ask me to, and I don’t store personal info.\\n\\nWhat should I call you? And what are you into or hoping to use me for?', type='output_text', logprobs=[])], role='assistant', status='completed', type='message')], parallel_tool_calls=True, temperature=1.0, tool_choice='auto', tools=[], top_p=1.0, background=False, conversation=None, max_output_tokens=None, max_tool_calls=None, previous_response_id=None, prompt=None, prompt_cache_key=None, reasoning=Reasoning(effort='medium', generate_summary=None, summary=None), safety_identifier=None, service_tier='default', status='completed', text=ResponseTextConfig(format=ResponseFormatText(type='text'), verbosity='medium'), top_logprobs=0, truncation='disabled', usage=ResponseUsage(input_tokens=12, input_tokens_details=InputTokensDetails(cached_tokens=0), output_tokens=407, output_tokens_details=OutputTokensDetails(reasoning_tokens=320), total_tokens=419), user=None, billing={'payer': 'developer'}, store=True)  "
   ]
  },
  {
   "cell_type": "markdown",
   "id": "ae959083",
   "metadata": {},
   "source": [
    "### output text를 출력하고 싶을 때 아래 코드 사용\n",
    "print(response.output_text)    "
   ]
  },
  {
   "cell_type": "code",
   "execution_count": 4,
   "id": "06ef676e",
   "metadata": {},
   "outputs": [
    {
     "name": "stdout",
     "output_type": "stream",
     "text": [
      "Santorini, Greece\n",
      "\n",
      "Why it’s romantic:\n",
      "- Iconic caldera sunsets, whitewashed villages, and cliffside cave suites with private plunge pools\n",
      "- Seaside wineries (Assyrtiko), candlelit dinners, and quiet mornings above the Aegean\n",
      "- Easy mix of relaxation and light adventure\n",
      "\n",
      "Best time to go: May–June or September–October (warm, fewer crowds). 4–5 nights is ideal.\n",
      "\n",
      "Where to stay:\n",
      "- Oia: postcard views, most romantic (also priciest)\n",
      "- Imerovigli: quieter, equally stunning caldera vistas\n",
      "- Look for a cave suite with a terrace or plunge pool\n",
      "\n",
      "Must-do experiences:\n",
      "- Sunset catamaran cruise around the caldera with swim stops and dinner\n",
      "- Walk the cliff path from Fira to Oia (start early or late afternoon)\n",
      "- Wine tasting at Santos, Venetsanos, or Domaine Sigalas\n",
      "- Explore Akrotiri’s ancient ruins and the Red Beach viewpoint\n",
      "- Private terrace dinner or couples’ spa session\n",
      "\n",
      "Simple 3-day plan:\n",
      "- Day 1: Check in, relax by your terrace; blue-hour photos in Oia; dinner overlooking the caldera\n",
      "- Day 2: Morning winery tour; afternoon pool time; sunset catamaran cruise\n",
      "- Day 3: Fira–Oia hike; explore Akrotiri; final romantic dinner\n",
      "\n",
      "Approx budget (for two, 4 nights): \n",
      "- Mid: $1,800–$3,000 lodging + $600–$1,200 activities/meals\n",
      "- Luxury cave suites can run higher in peak months\n",
      "\n",
      "Getting there: Fly to Athens, then 45-min flight or high-speed ferry to Santorini.\n",
      "\n",
      "If you’d like alternatives:\n",
      "- Maldives: ultra-private overwater villas\n",
      "- Kyoto, Japan: temples, tea houses, and autumn leaves or spring blossoms\n",
      "- Amalfi Coast, Italy: cliffside towns, lemon groves, and boat days\n",
      "- Bali (Ubud + Uluwatu): jungle villas, spas, sunsets over cliffs\n",
      "\n",
      "Tell me your preferred travel month, budget, and whether you want beaches, city vibes, or nature, and I’ll tailor a perfect romantic spot and itinerary.\n"
     ]
    }
   ],
   "source": [
    "print(response.output_text)"
   ]
  },
  {
   "cell_type": "code",
   "execution_count": 42,
   "id": "355ce189",
   "metadata": {},
   "outputs": [
    {
     "name": "stdout",
     "output_type": "stream",
     "text": [
      "Response(id='resp_0b58a0ef54ae48d70068fee4e65cdc8194b6210a63589919e8', created_at=1761535206.0, error=None, incomplete_details=None, instructions=[EasyInputMessage(content=[ResponseInputText(text='You are a kind tour guide', type='input_text')], role='developer', type='message'), EasyInputMessage(content=[ResponseInputText(text='if a user asks you a question about seoul tell them about the restaurants information Only!! nothing more. ', type='input_text')], role='user', type='message')], metadata={}, model='gpt-5-2025-08-07', object='response', output=[ResponseReasoningItem(id='rs_0b58a0ef54ae48d70068fee4e799788194b1374a9b6778aae2', summary=[], type='reasoning', content=None, encrypted_content=None, status=None), ResponseOutputMessage(id='msg_0b58a0ef54ae48d70068fee4eb66e88194b238a6bee250e3fd', content=[ResponseOutputText(annotations=[], text='Got it. When you ask about Seoul, I’ll share restaurant information only.', type='output_text', logprobs=[])], role='assistant', status='completed', type='message')], parallel_tool_calls=True, temperature=1.0, tool_choice='auto', tools=[], top_p=1.0, background=False, conversation=None, max_output_tokens=None, max_tool_calls=None, previous_response_id=None, prompt=ResponsePrompt(id='pmpt_68fedca5439c819480cbe54216d828dd0bac0f002f7c10eb', variables={'city': ResponseInputText(text='seoul', type='input_text')}, version='2'), prompt_cache_key=None, reasoning=Reasoning(effort='medium', generate_summary=None, summary=None), safety_identifier=None, service_tier='default', status='completed', text=ResponseTextConfig(format=ResponseFormatText(type='text'), verbosity='medium'), top_logprobs=0, truncation='disabled', usage=ResponseUsage(input_tokens=38, input_tokens_details=InputTokensDetails(cached_tokens=0), output_tokens=214, output_tokens_details=OutputTokensDetails(reasoning_tokens=192), total_tokens=252), user=None, billing={'payer': 'developer'}, store=True)\n"
     ]
    }
   ],
   "source": [
    "from openai import OpenAI\n",
    "client = OpenAI(api_key=OPENAI_API_KEY)\n",
    "\n",
    "\n",
    "response = client.responses.create(\n",
    "  prompt={\n",
    "    \"id\": \"pmpt_68fedca5439c819480cbe54216d828dd0bac0f002f7c10eb\",\n",
    "    \"version\": \"2\",\n",
    "    \"variables\": {\n",
    "      \"city\": \"seoul\"\n",
    "    }\n",
    "  }\n",
    ")\n",
    "print(response)"
   ]
  },
  {
   "cell_type": "code",
   "execution_count": 43,
   "id": "ea83830f",
   "metadata": {},
   "outputs": [
    {
     "name": "stdout",
     "output_type": "stream",
     "text": [
      "Got it. When you ask about Seoul, I’ll share restaurant information only.\n"
     ]
    }
   ],
   "source": [
    "print(response.output_text)"
   ]
  },
  {
   "cell_type": "markdown",
   "id": "b0c1d3e7",
   "metadata": {},
   "source": [
    "# gpt-5 모델 사용 예제  \n",
    "- 프롬프트 구조 이해  "
   ]
  },
  {
   "cell_type": "code",
   "execution_count": 44,
   "id": "ddd84978",
   "metadata": {},
   "outputs": [],
   "source": [
    "# openai gpt 객체 생성\n",
    "client = OpenAI(api_key=OPENAI_API_KEY)\n"
   ]
  },
  {
   "cell_type": "code",
   "execution_count": 55,
   "id": "1a4fab97",
   "metadata": {},
   "outputs": [
    {
     "name": "stdout",
     "output_type": "stream",
     "text": [
      "ChatCompletion(id='chatcmpl-CV8VzIra31nK734HUq5Lt7udcUIFN', choices=[Choice(finish_reason='stop', index=0, logprobs=None, message=ChatCompletionMessage(content='In simple terms, a cloud is a network of servers that allows you to store, manage, and process data over the internet. A platform, on the other hand, is a software environment where developers can create, test, and run applications. Cloud provides the infrastructure, while a platform provides tools and services for application development.', refusal=None, role='assistant', annotations=[], audio=None, function_call=None, tool_calls=None))], created=1761536935, model='gpt-3.5-turbo-0125', object='chat.completion', service_tier='default', system_fingerprint=None, usage=CompletionUsage(completion_tokens=65, prompt_tokens=42, total_tokens=107, completion_tokens_details=CompletionTokensDetails(accepted_prediction_tokens=0, audio_tokens=0, reasoning_tokens=0, rejected_prediction_tokens=0), prompt_tokens_details=PromptTokensDetails(audio_tokens=0, cached_tokens=0)))\n",
      "In simple terms, a cloud is a network of servers that allows you to store, manage, and process data over the internet. A platform, on the other hand, is a software environment where developers can create, test, and run applications. Cloud provides the infrastructure, while a platform provides tools and services for application development.\n"
     ]
    }
   ],
   "source": [
    "completion = client.chat.completions.create(\n",
    "    model=\"gpt-3.5-turbo\",\n",
    "    messages=[\n",
    "       # system prompt\n",
    "        {\"role\": \"system\", \n",
    "         \"content\": \"You are an IT expert. Make your answers concise and informative.\"},\n",
    "       # user prompt\n",
    "         {\"role\": \"user\", \n",
    "          \"content\": \"what is the difference between cloud and platform? Make sure to make it easy to understand.\"}\n",
    "    ],\n",
    "    temperature=0.7,\n",
    "    max_tokens=500,\n",
    "    top_p=1,\n",
    "    frequency_penalty=0,\n",
    "    presence_penalty=0\n",
    "  \n",
    ")\n",
    "print(completion)\n",
    "print(completion.choices[0].message.content)    "
   ]
  },
  {
   "cell_type": "code",
   "execution_count": 57,
   "id": "2d3501f9",
   "metadata": {},
   "outputs": [
    {
     "name": "stdout",
     "output_type": "stream",
     "text": [
      "ChatCompletion(id='chatcmpl-CV8YqzSWaj66r93QB1k8X8eGmDR6t', choices=[Choice(finish_reason='stop', index=0, logprobs=None, message=ChatCompletionMessage(content='Short answer:\\n- Cloud = where it runs. Computing resources you rent over the internet (servers, storage, networks, managed services).\\n- Platform = what you build/run on. A set of tools and runtimes that make it easier to develop and run applications.\\n\\nEasy analogy:\\n- Cloud is like renting a fully serviced building.\\n- A platform is the furnished workshop inside that building with the tools laid out so you can get work done.\\n\\nExamples:\\n- Cloud: AWS, Microsoft Azure, Google Cloud (you can rent virtual machines, storage, databases).\\n- Platforms (can be on cloud or not): iOS, Android, Java/.NET, Kubernetes, Salesforce Platform, Heroku, Google App Engine, AWS Elastic Beanstalk.\\n\\nHow they relate:\\n- A platform can run on the cloud or on your own servers.\\n- Many clouds also offer platform services, so people say “cloud platform.” They’re not opposites—cloud is the delivery model; platform is the layer of tools.\\n\\nWhich to choose:\\n- Need control over servers and networking? Use cloud infrastructure.\\n- Want to focus on code and let the service handle most of the setup/ops? Use a platform (often delivered via the cloud).', refusal=None, role='assistant', annotations=[], audio=None, function_call=None, tool_calls=None))], created=1761537112, model='gpt-5-2025-08-07', object='chat.completion', service_tier='default', system_fingerprint=None, usage=CompletionUsage(completion_tokens=829, prompt_tokens=41, total_tokens=870, completion_tokens_details=CompletionTokensDetails(accepted_prediction_tokens=0, audio_tokens=0, reasoning_tokens=576, rejected_prediction_tokens=0), prompt_tokens_details=PromptTokensDetails(audio_tokens=0, cached_tokens=0)))\n",
      "Short answer:\n",
      "- Cloud = where it runs. Computing resources you rent over the internet (servers, storage, networks, managed services).\n",
      "- Platform = what you build/run on. A set of tools and runtimes that make it easier to develop and run applications.\n",
      "\n",
      "Easy analogy:\n",
      "- Cloud is like renting a fully serviced building.\n",
      "- A platform is the furnished workshop inside that building with the tools laid out so you can get work done.\n",
      "\n",
      "Examples:\n",
      "- Cloud: AWS, Microsoft Azure, Google Cloud (you can rent virtual machines, storage, databases).\n",
      "- Platforms (can be on cloud or not): iOS, Android, Java/.NET, Kubernetes, Salesforce Platform, Heroku, Google App Engine, AWS Elastic Beanstalk.\n",
      "\n",
      "How they relate:\n",
      "- A platform can run on the cloud or on your own servers.\n",
      "- Many clouds also offer platform services, so people say “cloud platform.” They’re not opposites—cloud is the delivery model; platform is the layer of tools.\n",
      "\n",
      "Which to choose:\n",
      "- Need control over servers and networking? Use cloud infrastructure.\n",
      "- Want to focus on code and let the service handle most of the setup/ops? Use a platform (often delivered via the cloud).\n"
     ]
    }
   ],
   "source": [
    "completion = client.chat.completions.create(\n",
    "    model=\"gpt-5\",\n",
    "    messages=[\n",
    "       # system prompt\n",
    "        {\"role\": \"system\", \n",
    "         \"content\": \"You are an IT expert. Make your answers concise and informative.\"},\n",
    "       # user prompt\n",
    "         {\"role\": \"user\", \n",
    "          \"content\": \"what is the difference between cloud and platform? Make sure to make it easy to understand.\"}\n",
    "    ] ,\n",
    ")\n",
    "print(completion)\n",
    "print(completion.choices[0].message.content)  "
   ]
  },
  {
   "cell_type": "code",
   "execution_count": null,
   "id": "7e41a29a",
   "metadata": {},
   "outputs": [],
   "source": []
  }
 ],
 "metadata": {
  "kernelspec": {
   "display_name": "llm_env",
   "language": "python",
   "name": "python3"
  },
  "language_info": {
   "codemirror_mode": {
    "name": "ipython",
    "version": 3
   },
   "file_extension": ".py",
   "mimetype": "text/x-python",
   "name": "python",
   "nbconvert_exporter": "python",
   "pygments_lexer": "ipython3",
   "version": "3.10.19"
  }
 },
 "nbformat": 4,
 "nbformat_minor": 5
}
