{
 "cells": [
  {
   "cell_type": "code",
   "execution_count": 1,
   "id": "9fe529fb",
   "metadata": {},
   "outputs": [
    {
     "name": "stdout",
     "output_type": "stream",
     "text": [
      "토큰 개수: 32\n",
      "토큰 목록: [31495, 230, 75265, 243, 0, 74618, 16969, 99105, 22783, 226, 56154, 90759, 13, 56069, 13094, 168, 235, 105, 43139, 10997, 228, 58260, 223, 108, 29833, 18918, 95303, 86157, 34983, 42771, 26799, 13]\n"
     ]
    }
   ],
   "source": [
    "# 먼저 tiktoken 설치\n",
    "# pip install tiktoken\n",
    "\n",
    "import tiktoken\n",
    "\n",
    "# 사용할 모델에 맞는 인코딩 불러오기\n",
    "encoding = tiktoken.encoding_for_model(\"gpt-3.5-turbo\")\n",
    "\n",
    "text = \"안녕! 나는 회계사야. 파이썬으로 토큰 수를 계산해보자.\"\n",
    "\n",
    "# 토큰화\n",
    "tokens = encoding.encode(text)\n",
    "\n",
    "print(\"토큰 개수:\", len(tokens))\n",
    "print(\"토큰 목록:\", tokens)\n"
   ]
  },
  {
   "cell_type": "code",
   "execution_count": null,
   "id": "276e048f",
   "metadata": {},
   "outputs": [],
   "source": []
  },
  {
   "cell_type": "code",
   "execution_count": null,
   "id": "a117964e",
   "metadata": {},
   "outputs": [],
   "source": []
  },
  {
   "cell_type": "code",
   "execution_count": null,
   "id": "86416769",
   "metadata": {},
   "outputs": [],
   "source": []
  }
 ],
 "metadata": {
  "kernelspec": {
   "display_name": "llm_env",
   "language": "python",
   "name": "llm_env"
  },
  "language_info": {
   "codemirror_mode": {
    "name": "ipython",
    "version": 3
   },
   "file_extension": ".py",
   "mimetype": "text/x-python",
   "name": "python",
   "nbconvert_exporter": "python",
   "pygments_lexer": "ipython3",
   "version": "3.10.19"
  }
 },
 "nbformat": 4,
 "nbformat_minor": 5
}
