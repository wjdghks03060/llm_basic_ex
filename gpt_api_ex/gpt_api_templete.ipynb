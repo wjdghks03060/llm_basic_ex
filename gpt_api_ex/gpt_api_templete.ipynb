{
 "cells": [
  {
   "cell_type": "markdown",
   "id": "db08550c",
   "metadata": {},
   "source": [
    "# openai api key test"
   ]
  },
  {
   "cell_type": "markdown",
   "id": "f5832c8f",
   "metadata": {},
   "source": [
    "## API key 로딩"
   ]
  },
  {
   "cell_type": "code",
   "execution_count": 2,
   "id": "910633b8",
   "metadata": {},
   "outputs": [],
   "source": [
    "import os\n",
    "from dotenv import load_dotenv\n",
    "from openai import OpenAI\n",
    "\n",
    "# .env 파일 로드\n",
    "load_dotenv()\n",
    "\n",
    "# 환경 변수에서 API 키 가져오기\n",
    "OPENAI_API_KEY = os.getenv(\"OPENAI_API_KEY\")  # 여기서는 변수명 OPENAI_API_KEY로 저장했고\n",
    "\n",
    "# OpenAI 클라이언트 초기화 (여기서도 같은 변수명 사용)\n",
    "client = OpenAI(api_key=OPENAI_API_KEY)  # 같은 변수명 OPENAI_API_KEY 사용"
   ]
  },
  {
   "cell_type": "markdown",
   "id": "6d016333",
   "metadata": {},
   "source": []
  },
  {
   "cell_type": "markdown",
   "id": "8b45e3f1",
   "metadata": {},
   "source": [
    "## 라이브러리 로딩 및 객체 생성"
   ]
  },
  {
   "cell_type": "code",
   "execution_count": 3,
   "id": "d9f15fd0",
   "metadata": {},
   "outputs": [],
   "source": [
    "from openai import OpenAI\n",
    "# Initialize the OpenAI client with the API key(api 인증 및 객체생성)\n",
    "client = OpenAI(api_key=OPENAI_API_KEY)"
   ]
  }
 ],
 "metadata": {
  "kernelspec": {
   "display_name": "llm_env",
   "language": "python",
   "name": "llm_env"
  },
  "language_info": {
   "codemirror_mode": {
    "name": "ipython",
    "version": 3
   },
   "file_extension": ".py",
   "mimetype": "text/x-python",
   "name": "python",
   "nbconvert_exporter": "python",
   "pygments_lexer": "ipython3",
   "version": "3.10.19"
  }
 },
 "nbformat": 4,
 "nbformat_minor": 5
}
